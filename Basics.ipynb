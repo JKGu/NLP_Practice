{
  "nbformat": 4,
  "nbformat_minor": 0,
  "metadata": {
    "colab": {
      "name": "Basics.ipynb",
      "provenance": [],
      "collapsed_sections": []
    },
    "kernelspec": {
      "name": "python3",
      "display_name": "Python 3"
    },
    "language_info": {
      "name": "python"
    },
    "accelerator": "GPU"
  },
  "cells": [
    {
      "cell_type": "markdown",
      "metadata": {
        "id": "1dkSmQfV_tH7"
      },
      "source": [
        "# Import Libraries"
      ]
    },
    {
      "cell_type": "code",
      "metadata": {
        "id": "UU5ljrD8_wdz"
      },
      "source": [
        "import matplotlib.pyplot as plt\n",
        "import os\n",
        "import re\n",
        "import shutil\n",
        "import string\n",
        "import tensorflow as tf\n",
        "\n",
        "from tensorflow.keras import layers\n",
        "from tensorflow.keras import losses\n",
        "from tensorflow.keras import preprocessing\n",
        "from tensorflow.keras.layers.experimental.preprocessing import TextVectorization"
      ],
      "execution_count": 2,
      "outputs": []
    },
    {
      "cell_type": "markdown",
      "metadata": {
        "id": "6BJZ_KsA_1TG"
      },
      "source": [
        "# Load Dataset"
      ]
    },
    {
      "cell_type": "code",
      "metadata": {
        "colab": {
          "base_uri": "https://localhost:8080/"
        },
        "id": "J_dxXFqM_zro",
        "outputId": "a764f474-1245-49eb-a0ba-0c70a069e675"
      },
      "source": [
        "!mkdir dataset\n",
        "datasetURL = 'http://storage.googleapis.com/download.tensorflow.org/data/stack_overflow_16k.tar.gz'\n",
        "os.chdir('dataset')\n",
        "dataset = tf.keras.utils.get_file(\"stack_overflow\", datasetURL,\n",
        "                  extract=True, cache_dir='.',\n",
        "                  cache_subdir='',\n",
        "                  archive_format='tar')\n",
        "os.chdir('..')"
      ],
      "execution_count": 3,
      "outputs": [
        {
          "output_type": "stream",
          "text": [
            "Downloading data from http://storage.googleapis.com/download.tensorflow.org/data/stack_overflow_16k.tar.gz\n",
            "6053888/6053168 [==============================] - 0s 0us/step\n"
          ],
          "name": "stdout"
        }
      ]
    },
    {
      "cell_type": "code",
      "metadata": {
        "id": "QGZmhdAhAIJF"
      },
      "source": [
        "DATASET_DIR = os.path.join(os.path.dirname(dataset), 'dataset')\n",
        "TRAIN_DIR = os.path.join(DATASET_DIR, 'train')\n",
        "TEST_DIR = os.path.join(DATASET_DIR, 'test')"
      ],
      "execution_count": 4,
      "outputs": []
    },
    {
      "cell_type": "code",
      "metadata": {
        "colab": {
          "base_uri": "https://localhost:8080/"
        },
        "id": "4YZ_HqzOEHmN",
        "outputId": "30b311dd-c3b3-4ce8-ff86-0d28dc631260"
      },
      "source": [
        "batch_size = 32\n",
        "seed = 42\n",
        "train_ds = tf.keras.preprocessing.text_dataset_from_directory(\n",
        "    TRAIN_DIR, \n",
        "    batch_size=batch_size, \n",
        "    validation_split=0.2, \n",
        "    subset='training', \n",
        "    seed=seed)"
      ],
      "execution_count": 5,
      "outputs": [
        {
          "output_type": "stream",
          "text": [
            "Found 8000 files belonging to 4 classes.\n",
            "Using 6400 files for training.\n"
          ],
          "name": "stdout"
        }
      ]
    },
    {
      "cell_type": "code",
      "metadata": {
        "colab": {
          "base_uri": "https://localhost:8080/"
        },
        "id": "Bij5QZdsFjo-",
        "outputId": "f9c0a731-6d52-4b90-b237-f6c6af8186f7"
      },
      "source": [
        "val_ds = tf.keras.preprocessing.text_dataset_from_directory(\n",
        "    TRAIN_DIR, \n",
        "    batch_size=batch_size, \n",
        "    validation_split=0.2, \n",
        "    subset='validation', \n",
        "    seed=seed)"
      ],
      "execution_count": 6,
      "outputs": [
        {
          "output_type": "stream",
          "text": [
            "Found 8000 files belonging to 4 classes.\n",
            "Using 1600 files for validation.\n"
          ],
          "name": "stdout"
        }
      ]
    },
    {
      "cell_type": "code",
      "metadata": {
        "colab": {
          "base_uri": "https://localhost:8080/"
        },
        "id": "JoxXJZzCFpCQ",
        "outputId": "2db1e979-91da-428a-c7ba-f0abe3627d4b"
      },
      "source": [
        "test_ds = tf.keras.preprocessing.text_dataset_from_directory(\n",
        "    TEST_DIR, \n",
        "    batch_size=batch_size)"
      ],
      "execution_count": 7,
      "outputs": [
        {
          "output_type": "stream",
          "text": [
            "Found 8000 files belonging to 4 classes.\n"
          ],
          "name": "stdout"
        }
      ]
    },
    {
      "cell_type": "code",
      "metadata": {
        "id": "r3WQVSxqPhLH"
      },
      "source": [
        "AUTOTUNE = tf.data.AUTOTUNE\n",
        "\n",
        "train_ds = train_ds.cache().prefetch(buffer_size=AUTOTUNE)\n",
        "val_ds = val_ds.cache().prefetch(buffer_size=AUTOTUNE)\n",
        "test_ds = test_ds.cache().prefetch(buffer_size=AUTOTUNE)"
      ],
      "execution_count": 8,
      "outputs": []
    },
    {
      "cell_type": "markdown",
      "metadata": {
        "id": "GVZ5QQGxGWLJ"
      },
      "source": [
        "# Model"
      ]
    },
    {
      "cell_type": "code",
      "metadata": {
        "id": "IAHT6iTRGa42"
      },
      "source": [
        "def custom_standardization(input_data):\n",
        "  lowercase = tf.strings.lower(input_data)\n",
        "  stripped_html = tf.strings.regex_replace(lowercase, '<br />', ' ')\n",
        "  return tf.strings.regex_replace(stripped_html,\n",
        "                  '[%s]' % re.escape(string.punctuation),\n",
        "                  '')"
      ],
      "execution_count": null,
      "outputs": []
    },
    {
      "cell_type": "code",
      "metadata": {
        "id": "lS0ZH5hxGjJ5"
      },
      "source": [
        "# Train a vectorization layer\n",
        "max_features = 10000\n",
        "sequence_length = 250\n",
        "'''\n",
        "vectorize_layer = TextVectorization(\n",
        "    standardize=custom_standardization,\n",
        "    max_tokens=max_features,\n",
        "    output_mode='int',\n",
        "    output_sequence_length=sequence_length)\n",
        "'''\n",
        "vectorize_layer = TextVectorization(\n",
        "    standardize=custom_standardization,\n",
        "    max_tokens=max_features)\n",
        "train_text = train_ds.map(lambda x, y: x)\n",
        "vectorize_layer.adapt(train_text)"
      ],
      "execution_count": null,
      "outputs": []
    },
    {
      "cell_type": "code",
      "metadata": {
        "id": "JIYhbhXDObq2"
      },
      "source": [
        "embedding_dim = 16\n",
        "model = tf.keras.Sequential([\n",
        "  vectorize_layer,                \n",
        "  layers.Embedding(max_features + 1, embedding_dim),\n",
        "  layers.Dropout(0.2),\n",
        "  layers.GlobalAveragePooling1D(),\n",
        "  layers.Dropout(0.2),\n",
        "  layers.Dense(16,activation='relu'),\n",
        "  layers.Dense(4,activation='softmax')])"
      ],
      "execution_count": null,
      "outputs": []
    },
    {
      "cell_type": "code",
      "metadata": {
        "id": "gXLycs--O8Jh"
      },
      "source": [
        "model.compile(loss='sparse_categorical_crossentropy',\n",
        "              optimizer='adam',\n",
        "              metrics=['accuracy'])"
      ],
      "execution_count": null,
      "outputs": []
    },
    {
      "cell_type": "code",
      "metadata": {
        "colab": {
          "base_uri": "https://localhost:8080/"
        },
        "id": "_mzRaF5vRb-C",
        "outputId": "6bf4b5cd-2ee6-4fc2-b2c7-cbcc7cfd4158"
      },
      "source": [
        "epochs = 10\n",
        "history = model.fit(\n",
        "    train_ds,\n",
        "    validation_data=val_ds,\n",
        "    epochs=epochs)"
      ],
      "execution_count": null,
      "outputs": [
        {
          "output_type": "stream",
          "text": [
            "Epoch 1/10\n",
            "200/200 [==============================] - 4s 15ms/step - loss: 1.3825 - accuracy: 0.2844 - val_loss: 1.3756 - val_accuracy: 0.3469\n",
            "Epoch 2/10\n",
            "200/200 [==============================] - 2s 12ms/step - loss: 1.3539 - accuracy: 0.3944 - val_loss: 1.3210 - val_accuracy: 0.4787\n",
            "Epoch 3/10\n",
            "200/200 [==============================] - 3s 13ms/step - loss: 1.2569 - accuracy: 0.5420 - val_loss: 1.1748 - val_accuracy: 0.6281\n",
            "Epoch 4/10\n",
            "200/200 [==============================] - 3s 13ms/step - loss: 1.0863 - accuracy: 0.6364 - val_loss: 0.9974 - val_accuracy: 0.6706\n",
            "Epoch 5/10\n",
            "200/200 [==============================] - 3s 13ms/step - loss: 0.9206 - accuracy: 0.6966 - val_loss: 0.8587 - val_accuracy: 0.7144\n",
            "Epoch 6/10\n",
            "200/200 [==============================] - 3s 13ms/step - loss: 0.7978 - accuracy: 0.7322 - val_loss: 0.7593 - val_accuracy: 0.7487\n",
            "Epoch 7/10\n",
            "200/200 [==============================] - 3s 13ms/step - loss: 0.7034 - accuracy: 0.7636 - val_loss: 0.6927 - val_accuracy: 0.7700\n",
            "Epoch 8/10\n",
            "200/200 [==============================] - 3s 13ms/step - loss: 0.6326 - accuracy: 0.7883 - val_loss: 0.6414 - val_accuracy: 0.7806\n",
            "Epoch 9/10\n",
            "200/200 [==============================] - 3s 13ms/step - loss: 0.5741 - accuracy: 0.8084 - val_loss: 0.6071 - val_accuracy: 0.7850\n",
            "Epoch 10/10\n",
            "200/200 [==============================] - 3s 13ms/step - loss: 0.5210 - accuracy: 0.8306 - val_loss: 0.5827 - val_accuracy: 0.7875\n"
          ],
          "name": "stdout"
        }
      ]
    },
    {
      "cell_type": "code",
      "metadata": {
        "colab": {
          "base_uri": "https://localhost:8080/"
        },
        "id": "udsNLxD1SPMK",
        "outputId": "89ab2c5e-d903-46e5-c91d-3afa971ebf29"
      },
      "source": [
        "examples = [\n",
        "'''\n",
        "How do I sort a list of dictionaries by a value of the dictionary?\n",
        "I have a list of dictionaries and want each item to be sorted by a specific value.\n",
        "Take into consideration the list:\n",
        "[{'name':'Homer', 'age':39}, {'name':'Bart', 'age':10}]\n",
        "When sorted by name, it should become:\n",
        "[{'name':'Bart', 'age':10}, {'name':'Homer', 'age':39}]\n",
        "''',\n",
        "'''\n",
        "Validate Map<String,Object> object matches json schema\n",
        "I want to check whether an object of type Map<String,Object> matches the schema or not. The schema is received as a String.\n",
        "How can I achieve this? (Preferably using Jackson)\n",
        "Thanks.\n",
        "'''\n",
        "]\n",
        "\n",
        "model.predict(examples)"
      ],
      "execution_count": null,
      "outputs": [
        {
          "output_type": "execute_result",
          "data": {
            "text/plain": [
              "array([[0.05053845, 0.08308301, 0.02675996, 0.83961856],\n",
              "       [0.5179985 , 0.30583033, 0.15187894, 0.02429225]], dtype=float32)"
            ]
          },
          "metadata": {
            "tags": []
          },
          "execution_count": 13
        }
      ]
    },
    {
      "cell_type": "code",
      "metadata": {
        "colab": {
          "base_uri": "https://localhost:8080/",
          "height": 573
        },
        "id": "dPQU52RwVsA9",
        "outputId": "c314343d-ab5e-42d7-d7ad-77dc06e89019"
      },
      "source": [
        "history_dict = history.history\n",
        "acc = history_dict['accuracy']\n",
        "val_acc = history_dict['val_accuracy']\n",
        "loss = history_dict['loss']\n",
        "val_loss = history_dict['val_loss']\n",
        "\n",
        "epochs = range(1, len(acc) + 1)\n",
        "\n",
        "# \"bo\" is for \"blue dot\"\n",
        "plt.plot(epochs, loss, 'bo', label='Training loss')\n",
        "# b is for \"solid blue line\"\n",
        "plt.plot(epochs, val_loss, 'b', label='Validation loss')\n",
        "plt.title('Training and validation loss')\n",
        "plt.xlabel('Epochs')\n",
        "plt.ylabel('Loss')\n",
        "plt.legend()\n",
        "\n",
        "plt.show()\n",
        "\n",
        "plt.plot(epochs, acc, 'bo', label='Training acc')\n",
        "plt.plot(epochs, val_acc, 'b', label='Validation acc')\n",
        "plt.title('Training and validation accuracy')\n",
        "plt.xlabel('Epochs')\n",
        "plt.ylabel('Accuracy')\n",
        "plt.legend(loc='lower right')\n",
        "\n",
        "plt.show()"
      ],
      "execution_count": null,
      "outputs": [
        {
          "output_type": "display_data",
          "data": {
            "image/png": "[encoded data removed]",
            "text/plain": [
              "<Figure size 432x288 with 1 Axes>"
            ]
          },
          "metadata": {
            "tags": [],
            "needs_background": "light"
          }
        },
        {
          "output_type": "display_data",
          "data": {
            "image/png": "[encoded data removed]",
            "text/plain": [
              "<Figure size 432x288 with 1 Axes>"
            ]
          },
          "metadata": {
            "tags": [],
            "needs_background": "light"
          }
        }
      ]
    },
    {
      "cell_type": "markdown",
      "metadata": {
        "id": "stA9qoWiN8cp"
      },
      "source": [
        "\n",
        "\n",
        "---\n",
        "\n"
      ]
    },
    {
      "cell_type": "markdown",
      "metadata": {
        "id": "2ULjNspfN-R-"
      },
      "source": [
        "# TF Hub"
      ]
    },
    {
      "cell_type": "code",
      "metadata": {
        "id": "7H09F48TOA8f"
      },
      "source": [
        "import tensorflow_hub as hub\n",
        "import tensorflow_datasets as tfds"
      ],
      "execution_count": 9,
      "outputs": []
    },
    {
      "cell_type": "code",
      "metadata": {
        "id": "xZBq0waqOOSb"
      },
      "source": [
        "embedding = \"https://tfhub.dev/google/nnlm-en-dim50/2\"\n",
        "hub_layer = hub.KerasLayer(embedding, input_shape=[], dtype=tf.string, trainable=True)"
      ],
      "execution_count": null,
      "outputs": []
    },
    {
      "cell_type": "code",
      "metadata": {
        "colab": {
          "base_uri": "https://localhost:8080/"
        },
        "id": "3NVymXDaO_K4",
        "outputId": "c804e7ad-60f0-4e8f-b898-2185c4e37dfa"
      },
      "source": [
        "model2 = tf.keras.Sequential()\n",
        "model2.add(hub_layer)\n",
        "layers.Dropout(0.2),\n",
        "layers.GlobalAveragePooling1D(),\n",
        "layers.Dropout(0.2),\n",
        "model2.add(tf.keras.layers.Dense(16, activation='relu'))\n",
        "model2.add(tf.keras.layers.Dense(4,activation='softmax'))\n",
        "\n",
        "model2.summary()"
      ],
      "execution_count": null,
      "outputs": [
        {
          "output_type": "stream",
          "text": [
            "Model: \"sequential_1\"\n",
            "_________________________________________________________________\n",
            "Layer (type)                 Output Shape              Param #   \n",
            "=================================================================\n",
            "keras_layer (KerasLayer)     (None, 50)                48190600  \n",
            "_________________________________________________________________\n",
            "dense_2 (Dense)              (None, 16)                816       \n",
            "_________________________________________________________________\n",
            "dense_3 (Dense)              (None, 4)                 68        \n",
            "=================================================================\n",
            "Total params: 48,191,484\n",
            "Trainable params: 48,191,484\n",
            "Non-trainable params: 0\n",
            "_________________________________________________________________\n"
          ],
          "name": "stdout"
        }
      ]
    },
    {
      "cell_type": "code",
      "metadata": {
        "id": "QntSFVYrPF6p"
      },
      "source": [
        "model2.compile(loss='sparse_categorical_crossentropy',\n",
        "              optimizer='adam',\n",
        "              metrics=['accuracy'])"
      ],
      "execution_count": null,
      "outputs": []
    },
    {
      "cell_type": "code",
      "metadata": {
        "colab": {
          "base_uri": "https://localhost:8080/"
        },
        "id": "jVujsNo6PTcb",
        "outputId": "5dac479d-53e6-405c-9283-bb64b4bdee25"
      },
      "source": [
        "epochs = 10\n",
        "history = model2.fit(\n",
        "    train_ds,\n",
        "    validation_data=val_ds,\n",
        "    epochs=epochs)"
      ],
      "execution_count": null,
      "outputs": [
        {
          "output_type": "stream",
          "text": [
            "Epoch 1/10\n",
            "200/200 [==============================] - 112s 556ms/step - loss: 1.2064 - accuracy: 0.4731 - val_loss: 0.9201 - val_accuracy: 0.6869\n",
            "Epoch 2/10\n",
            "200/200 [==============================] - 114s 568ms/step - loss: 0.7089 - accuracy: 0.7478 - val_loss: 0.6453 - val_accuracy: 0.7538\n",
            "Epoch 3/10\n",
            "200/200 [==============================] - 111s 557ms/step - loss: 0.4238 - accuracy: 0.8627 - val_loss: 0.5772 - val_accuracy: 0.7606\n",
            "Epoch 4/10\n",
            "200/200 [==============================] - 111s 555ms/step - loss: 0.2482 - accuracy: 0.9359 - val_loss: 0.5764 - val_accuracy: 0.7713\n",
            "Epoch 5/10\n",
            "200/200 [==============================] - 110s 551ms/step - loss: 0.1357 - accuracy: 0.9736 - val_loss: 0.6122 - val_accuracy: 0.7700\n",
            "Epoch 6/10\n",
            "200/200 [==============================] - 116s 581ms/step - loss: 0.0691 - accuracy: 0.9914 - val_loss: 0.6580 - val_accuracy: 0.7688\n",
            "Epoch 7/10\n",
            "200/200 [==============================] - 114s 571ms/step - loss: 0.0350 - accuracy: 0.9983 - val_loss: 0.7022 - val_accuracy: 0.7625\n",
            "Epoch 8/10\n",
            "200/200 [==============================] - 112s 558ms/step - loss: 0.0192 - accuracy: 0.9994 - val_loss: 0.7459 - val_accuracy: 0.7613\n",
            "Epoch 9/10\n",
            "200/200 [==============================] - 114s 570ms/step - loss: 0.0116 - accuracy: 0.9997 - val_loss: 0.7887 - val_accuracy: 0.7619\n",
            "Epoch 10/10\n",
            "200/200 [==============================] - 112s 558ms/step - loss: 0.0076 - accuracy: 1.0000 - val_loss: 0.8258 - val_accuracy: 0.7644\n"
          ],
          "name": "stdout"
        }
      ]
    },
    {
      "cell_type": "markdown",
      "metadata": {
        "id": "GpXD4N5LeQao"
      },
      "source": [
        "# RNN"
      ]
    },
    {
      "cell_type": "code",
      "metadata": {
        "id": "U53AzrW8eTRj"
      },
      "source": [
        "model3 = tf.keras.Sequential([\n",
        "    vectorize_layer,\n",
        "    tf.keras.layers.Embedding(\n",
        "        input_dim=len(vectorize_layer.get_vocabulary()),\n",
        "        output_dim=64,\n",
        "        mask_zero=True),\n",
        "    tf.keras.layers.Bidirectional(tf.keras.layers.LSTM(64,return_sequences=True)),\n",
        "    tf.keras.layers.Bidirectional(tf.keras.layers.LSTM(32)),\n",
        "    tf.keras.layers.Dense(64, activation='relu'),\n",
        "    tf.keras.layers.Dense(4,activation='softmax')\n",
        "])"
      ],
      "execution_count": null,
      "outputs": []
    },
    {
      "cell_type": "code",
      "metadata": {
        "colab": {
          "base_uri": "https://localhost:8080/"
        },
        "id": "qpfxuZoTndRt",
        "outputId": "a89bdf6d-e73a-40f9-dfdd-723b3e69451f"
      },
      "source": [
        "model3.compile(loss='sparse_categorical_crossentropy',\n",
        "              optimizer='adam',\n",
        "              metrics=['accuracy'])\n",
        "epochs = 10\n",
        "history = model3.fit(\n",
        "    train_ds,\n",
        "    validation_data=val_ds,\n",
        "    epochs=epochs)"
      ],
      "execution_count": null,
      "outputs": [
        {
          "output_type": "stream",
          "text": [
            "Epoch 1/10\n",
            "200/200 [==============================] - 181s 850ms/step - loss: 1.1090 - accuracy: 0.4919 - val_loss: 0.7786 - val_accuracy: 0.6750\n",
            "Epoch 2/10\n",
            "200/200 [==============================] - 165s 827ms/step - loss: 0.5985 - accuracy: 0.7758 - val_loss: 0.7220 - val_accuracy: 0.7519\n",
            "Epoch 3/10\n",
            "200/200 [==============================] - 167s 835ms/step - loss: 0.3877 - accuracy: 0.8606 - val_loss: 0.7759 - val_accuracy: 0.7181\n",
            "Epoch 4/10\n",
            "200/200 [==============================] - 167s 836ms/step - loss: 0.3290 - accuracy: 0.8811 - val_loss: 0.8556 - val_accuracy: 0.7450\n",
            "Epoch 5/10\n",
            "200/200 [==============================] - 168s 842ms/step - loss: 0.2296 - accuracy: 0.9244 - val_loss: 0.7938 - val_accuracy: 0.6806\n",
            "Epoch 6/10\n",
            "200/200 [==============================] - 168s 842ms/step - loss: 0.2792 - accuracy: 0.9002 - val_loss: 0.9004 - val_accuracy: 0.6931\n",
            "Epoch 7/10\n",
            "200/200 [==============================] - 169s 846ms/step - loss: 0.1570 - accuracy: 0.9523 - val_loss: 0.9278 - val_accuracy: 0.7650\n",
            "Epoch 8/10\n",
            "200/200 [==============================] - 170s 847ms/step - loss: 0.1002 - accuracy: 0.9686 - val_loss: 0.9650 - val_accuracy: 0.7613\n",
            "Epoch 9/10\n",
            "200/200 [==============================] - 172s 858ms/step - loss: 0.0642 - accuracy: 0.9827 - val_loss: 1.1575 - val_accuracy: 0.7531\n",
            "Epoch 10/10\n",
            "200/200 [==============================] - 168s 838ms/step - loss: 0.0717 - accuracy: 0.9792 - val_loss: 1.2031 - val_accuracy: 0.7500\n"
          ],
          "name": "stdout"
        }
      ]
    },
    {
      "cell_type": "markdown",
      "metadata": {
        "id": "iuObrJ6EjG5f"
      },
      "source": [
        "# BERT"
      ]
    },
    {
      "cell_type": "code",
      "metadata": {
        "colab": {
          "base_uri": "https://localhost:8080/"
        },
        "id": "ahQV18x9jJPh",
        "outputId": "c4529f20-fbec-4663-fbb3-300009ab1451"
      },
      "source": [
        "!pip install -q -U tensorflow-text"
      ],
      "execution_count": 10,
      "outputs": [
        {
          "output_type": "stream",
          "text": [
            "\u001b[K     |████████████████████████████████| 4.3MB 4.1MB/s \n",
            "\u001b[?25h"
          ],
          "name": "stdout"
        }
      ]
    },
    {
      "cell_type": "code",
      "metadata": {
        "colab": {
          "base_uri": "https://localhost:8080/"
        },
        "id": "7-yBWO2DjNYe",
        "outputId": "b2395e1f-1c30-4f46-a05d-e815984e7845"
      },
      "source": [
        "!pip install -q tf-models-official"
      ],
      "execution_count": 11,
      "outputs": [
        {
          "output_type": "stream",
          "text": [
            "\u001b[K     |████████████████████████████████| 1.6MB 4.0MB/s \n",
            "\u001b[K     |████████████████████████████████| 686kB 31.9MB/s \n",
            "\u001b[K     |████████████████████████████████| 38.2MB 79kB/s \n",
            "\u001b[K     |████████████████████████████████| 102kB 11.3MB/s \n",
            "\u001b[K     |████████████████████████████████| 358kB 32.6MB/s \n",
            "\u001b[K     |████████████████████████████████| 645kB 33.6MB/s \n",
            "\u001b[K     |████████████████████████████████| 61kB 6.6MB/s \n",
            "\u001b[K     |████████████████████████████████| 51kB 6.4MB/s \n",
            "\u001b[K     |████████████████████████████████| 174kB 42.5MB/s \n",
            "\u001b[K     |████████████████████████████████| 1.2MB 32.8MB/s \n",
            "\u001b[?25h  Building wheel for py-cpuinfo (setup.py) ... \u001b[?25l\u001b[?25hdone\n",
            "  Building wheel for seqeval (setup.py) ... \u001b[?25l\u001b[?25hdone\n"
          ],
          "name": "stdout"
        }
      ]
    },
    {
      "cell_type": "code",
      "metadata": {
        "id": "pClesFsIjPOY"
      },
      "source": [
        "from official.nlp import optimization  # to create AdamW optimizer\n",
        "import tensorflow_text as text"
      ],
      "execution_count": 12,
      "outputs": []
    },
    {
      "cell_type": "code",
      "metadata": {
        "id": "rTQU679-jUrL"
      },
      "source": [
        "tfhub_handle_encoder = 'https://tfhub.dev/tensorflow/small_bert/bert_en_uncased_L-4_H-512_A-8/1'\n",
        "tfhub_handle_preprocess = 'https://tfhub.dev/tensorflow/bert_en_uncased_preprocess/3'"
      ],
      "execution_count": 13,
      "outputs": []
    },
    {
      "cell_type": "code",
      "metadata": {
        "id": "y_9F-6fukZNU"
      },
      "source": [
        "bert_preprocess_model = hub.KerasLayer(tfhub_handle_preprocess)"
      ],
      "execution_count": 14,
      "outputs": []
    },
    {
      "cell_type": "code",
      "metadata": {
        "id": "OF0jUaVNnfg-"
      },
      "source": [
        "bert_model = hub.KerasLayer(tfhub_handle_encoder)"
      ],
      "execution_count": 15,
      "outputs": []
    },
    {
      "cell_type": "code",
      "metadata": {
        "id": "k3p6Vef1pi_B"
      },
      "source": [
        "# All layers in a Sequential model should have a single output tensor. \n",
        "# For multi-output layers, use the functional API.\n",
        "def build_classifier_model():\n",
        "  text_input = tf.keras.layers.Input(shape=(), dtype=tf.string, name='text')\n",
        "  preprocessing_layer = hub.KerasLayer(tfhub_handle_preprocess, name='preprocessing')\n",
        "\n",
        "  encoder_inputs = preprocessing_layer(text_input)\n",
        "  encoder = hub.KerasLayer(tfhub_handle_encoder, trainable=True, name='BERT_encoder')\n",
        "\n",
        "  outputs = encoder(encoder_inputs)\n",
        "  net = outputs['pooled_output']\n",
        "\n",
        "  net = tf.keras.layers.Dropout(0.1)(net)\n",
        "  net = tf.keras.layers.Dense(4, activation='softmax', name='classifier')(net)\n",
        "  return tf.keras.Model(text_input, net)\n"
      ],
      "execution_count": 26,
      "outputs": []
    },
    {
      "cell_type": "code",
      "metadata": {
        "id": "wOXiNsHSr9Lb"
      },
      "source": [
        "model4 = build_classifier_model()"
      ],
      "execution_count": 27,
      "outputs": []
    },
    {
      "cell_type": "code",
      "metadata": {
        "colab": {
          "base_uri": "https://localhost:8080/",
          "height": 466
        },
        "id": "AQZQktTvsJCE",
        "outputId": "22db2955-b4a3-48da-c574-f90dae8a4c2b"
      },
      "source": [
        "tf.keras.utils.plot_model(model4)"
      ],
      "execution_count": 28,
      "outputs": [
        {
          "output_type": "execute_result",
          "data": {
            "image/png": "[encoded data removed]",
            "text/plain": [
              "<IPython.core.display.Image object>"
            ]
          },
          "metadata": {
            "tags": []
          },
          "execution_count": 28
        }
      ]
    },
    {
      "cell_type": "code",
      "metadata": {
        "id": "tQzPW_UUsjKn"
      },
      "source": [
        "epochs = 5\n",
        "steps_per_epoch = tf.data.experimental.cardinality(train_ds).numpy()\n",
        "num_train_steps = steps_per_epoch * epochs\n",
        "num_warmup_steps = int(0.1*num_train_steps)\n",
        "\n",
        "init_lr = 3e-5\n",
        "optimizer = optimization.create_optimizer(init_lr=init_lr,\n",
        "                      num_train_steps=num_train_steps,\n",
        "                      num_warmup_steps=num_warmup_steps,\n",
        "                      optimizer_type='adamw')"
      ],
      "execution_count": 29,
      "outputs": []
    },
    {
      "cell_type": "code",
      "metadata": {
        "id": "RoyWiHjAs3Xs"
      },
      "source": [
        "model4.compile(optimizer=optimizer,\n",
        "        loss='sparse_categorical_crossentropy',\n",
        "        metrics=['accuracy'])"
      ],
      "execution_count": 30,
      "outputs": []
    },
    {
      "cell_type": "code",
      "metadata": {
        "colab": {
          "base_uri": "https://localhost:8080/"
        },
        "id": "_TKE-cPBuakb",
        "outputId": "eb50e11e-7c81-4f97-b530-5c8562c15ca5"
      },
      "source": [
        "history = model4.fit(train_ds,\n",
        "            validation_data=val_ds,\n",
        "            epochs=epochs)"
      ],
      "execution_count": 31,
      "outputs": [
        {
          "output_type": "stream",
          "text": [
            "Epoch 1/5\n",
            "200/200 [==============================] - 97s 448ms/step - loss: 1.0871 - accuracy: 0.5155 - val_loss: 0.6492 - val_accuracy: 0.7331\n",
            "Epoch 2/5\n",
            "200/200 [==============================] - 89s 444ms/step - loss: 0.5989 - accuracy: 0.7578 - val_loss: 0.5181 - val_accuracy: 0.7987\n",
            "Epoch 3/5\n",
            "200/200 [==============================] - 89s 444ms/step - loss: 0.4469 - accuracy: 0.8291 - val_loss: 0.4985 - val_accuracy: 0.8037\n",
            "Epoch 4/5\n",
            "200/200 [==============================] - 88s 443ms/step - loss: 0.3568 - accuracy: 0.8587 - val_loss: 0.4849 - val_accuracy: 0.8163\n",
            "Epoch 5/5\n",
            "200/200 [==============================] - 89s 443ms/step - loss: 0.2965 - accuracy: 0.8939 - val_loss: 0.4831 - val_accuracy: 0.8219\n"
          ],
          "name": "stdout"
        }
      ]
    }
  ]
}